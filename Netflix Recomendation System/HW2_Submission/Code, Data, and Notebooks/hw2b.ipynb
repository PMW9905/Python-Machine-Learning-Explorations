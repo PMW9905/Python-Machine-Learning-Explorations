{
 "cells": [
  {
   "cell_type": "markdown",
   "metadata": {},
   "source": [
    "# CS 6375 HW 2\n",
    "Neural Networks, K-nearest neighbors, and SVM\n",
    "\n",
    "Parker Whitehead\n",
    "\n",
    "pmw180000@utdallas.edu"
   ]
  },
  {
   "cell_type": "code",
   "execution_count": 1,
   "metadata": {},
   "outputs": [],
   "source": [
    "import numpy as np\n",
    "import pandas as pd"
   ]
  },
  {
   "cell_type": "code",
   "execution_count": 3,
   "metadata": {},
   "outputs": [],
   "source": [
    "from sklearn.datasets import fetch_openml\n",
    "# Load data from https://www.openml.org/d/554\n",
    "X, y = fetch_openml('mnist_784', version=1, return_X_y=True)\n",
    "X = X / 255.\n",
    "\n",
    "# rescale the data, use the traditional train/test split\n",
    "# (60K: Train) and (10K: Test)\n",
    "X_train, X_test = X[:60000], X[60000:]\n",
    "y_train, y_test = y[:60000], y[60000:]\n"
   ]
  },
  {
   "cell_type": "markdown",
   "metadata": {},
   "source": [
    "#### SKLearn SVM\n",
    "Parameters Tested:\n",
    "\n",
    "    All combinations of:\n",
    "\n",
    "    kernel_values: linear, poly, rbf, and sigmoid.\n",
    "\n",
    "    penalty values: 0.5, 1, and 2.\n",
    "\n",
    "    \n",
    "\n",
    "Total tested: 10"
   ]
  },
  {
   "cell_type": "code",
   "execution_count": null,
   "metadata": {},
   "outputs": [
    {
     "name": "stdout",
     "output_type": "stream",
     "text": [
      "Kernel used: linear\n",
      "Penalty  used: 0.5\n",
      "Error Rate: 0.05700\n",
      "\n",
      "Kernel used: linear\n",
      "Penalty  used: 1\n",
      "Error Rate: 0.05960\n",
      "\n",
      "Kernel used: linear\n",
      "Penalty  used: 2\n",
      "Error Rate: 0.06190\n",
      "\n",
      "Kernel used: poly\n",
      "Penalty  used: 0.5\n",
      "Error Rate: 0.02690\n",
      "\n",
      "Kernel used: poly\n",
      "Penalty  used: 1\n",
      "Error Rate: 0.02290\n",
      "\n",
      "Kernel used: poly\n",
      "Penalty  used: 2\n",
      "Error Rate: 0.02150\n",
      "\n",
      "Kernel used: rbf\n",
      "Penalty  used: 0.5\n",
      "Error Rate: 0.02410\n",
      "\n",
      "Kernel used: rbf\n",
      "Penalty  used: 1\n",
      "Error Rate: 0.02080\n",
      "\n",
      "Kernel used: rbf\n",
      "Penalty  used: 2\n",
      "Error Rate: 0.01690\n",
      "\n",
      "Kernel used: sigmoid\n",
      "Penalty  used: 0.5\n",
      "Error Rate: 0.21030\n",
      "\n",
      "Kernel used: sigmoid\n",
      "Penalty  used: 1\n",
      "Error Rate: 0.22410\n",
      "\n",
      "Kernel used: sigmoid\n",
      "Penalty  used: 2\n",
      "Error Rate: 0.22970\n",
      "\n"
     ]
    }
   ],
   "source": [
    "from sklearn.svm import SVC\n",
    "import gc\n",
    "\n",
    "kernel_values = ['linear','poly','rbf','sigmoid']\n",
    "penalty_values = [.5,1,2]\n",
    "\n",
    "for ker in kernel_values:\n",
    "    for pen in penalty_values:\n",
    "        svm = SVC(kernel=ker,C=pen)\n",
    "        gc.collect()\n",
    "        svm.fit(X_train,y_train)\n",
    "        results = svm.predict(X_test)\n",
    "        err = 1 - (sum([int(prediction == actual) for prediction, actual in zip(results,y_test)])) / 10000\n",
    "        print(f'Kernel used: {ker}')\n",
    "        print(f'Penalty  used: {pen}')\n",
    "        print(f'Error Rate: {err:.5f}\\n')"
   ]
  },
  {
   "cell_type": "markdown",
   "metadata": {},
   "source": [
    "#### MLP Classifier\n",
    "Parameters Tested: \n",
    "\n",
    "    All combinations of:\n",
    "\n",
    "    solvers: adam, sgd, and lbfgs\n",
    "\n",
    "    activations: identity, logistic, tanh, and relu\n",
    "\n",
    "    \n",
    "\n",
    "Total Tested: 12"
   ]
  },
  {
   "cell_type": "code",
   "execution_count": null,
   "metadata": {},
   "outputs": [
    {
     "name": "stdout",
     "output_type": "stream",
     "text": [
      "Solver used: adam\n",
      "Activation function used: identity\n",
      "Error Rate: 0.07630\n",
      "\n",
      "Solver used: adam\n",
      "Activation function used: logistic\n",
      "Error Rate: 0.02310\n",
      "\n",
      "Solver used: adam\n",
      "Activation function used: tanh\n",
      "Error Rate: 0.02180\n",
      "\n",
      "Solver used: adam\n",
      "Activation function used: relu\n",
      "Error Rate: 0.02380\n",
      "\n"
     ]
    },
    {
     "name": "stderr",
     "output_type": "stream",
     "text": [
      "c:\\Users\\pmw99\\AppData\\Local\\Programs\\Python\\Python310\\lib\\site-packages\\sklearn\\neural_network\\_multilayer_perceptron.py:692: ConvergenceWarning: Stochastic Optimizer: Maximum iterations (200) reached and the optimization hasn't converged yet.\n",
      "  warnings.warn(\n"
     ]
    },
    {
     "name": "stdout",
     "output_type": "stream",
     "text": [
      "Solver used: sgd\n",
      "Activation function used: identity\n",
      "Error Rate: 0.07550\n",
      "\n"
     ]
    },
    {
     "name": "stderr",
     "output_type": "stream",
     "text": [
      "c:\\Users\\pmw99\\AppData\\Local\\Programs\\Python\\Python310\\lib\\site-packages\\sklearn\\neural_network\\_multilayer_perceptron.py:692: ConvergenceWarning: Stochastic Optimizer: Maximum iterations (200) reached and the optimization hasn't converged yet.\n",
      "  warnings.warn(\n"
     ]
    },
    {
     "name": "stdout",
     "output_type": "stream",
     "text": [
      "Solver used: sgd\n",
      "Activation function used: logistic\n",
      "Error Rate: 0.06420\n",
      "\n"
     ]
    },
    {
     "name": "stderr",
     "output_type": "stream",
     "text": [
      "c:\\Users\\pmw99\\AppData\\Local\\Programs\\Python\\Python310\\lib\\site-packages\\sklearn\\neural_network\\_multilayer_perceptron.py:692: ConvergenceWarning: Stochastic Optimizer: Maximum iterations (200) reached and the optimization hasn't converged yet.\n",
      "  warnings.warn(\n"
     ]
    },
    {
     "name": "stdout",
     "output_type": "stream",
     "text": [
      "Solver used: sgd\n",
      "Activation function used: tanh\n",
      "Error Rate: 0.03230\n",
      "\n"
     ]
    },
    {
     "name": "stderr",
     "output_type": "stream",
     "text": [
      "c:\\Users\\pmw99\\AppData\\Local\\Programs\\Python\\Python310\\lib\\site-packages\\sklearn\\neural_network\\_multilayer_perceptron.py:692: ConvergenceWarning: Stochastic Optimizer: Maximum iterations (200) reached and the optimization hasn't converged yet.\n",
      "  warnings.warn(\n"
     ]
    },
    {
     "name": "stdout",
     "output_type": "stream",
     "text": [
      "Solver used: sgd\n",
      "Activation function used: relu\n",
      "Error Rate: 0.02970\n",
      "\n"
     ]
    },
    {
     "name": "stderr",
     "output_type": "stream",
     "text": [
      "c:\\Users\\pmw99\\AppData\\Local\\Programs\\Python\\Python310\\lib\\site-packages\\sklearn\\neural_network\\_multilayer_perceptron.py:549: ConvergenceWarning: lbfgs failed to converge (status=1):\n",
      "STOP: TOTAL NO. of ITERATIONS REACHED LIMIT.\n",
      "\n",
      "Increase the number of iterations (max_iter) or scale the data as shown in:\n",
      "    https://scikit-learn.org/stable/modules/preprocessing.html\n",
      "  self.n_iter_ = _check_optimize_result(\"lbfgs\", opt_res, self.max_iter)\n"
     ]
    },
    {
     "name": "stdout",
     "output_type": "stream",
     "text": [
      "Solver used: lbfgs\n",
      "Activation function used: identity\n",
      "Error Rate: 0.07430\n",
      "\n",
      "Solver used: lbfgs\n",
      "Activation function used: logistic\n",
      "Error Rate: 0.02680\n",
      "\n",
      "Solver used: lbfgs\n",
      "Activation function used: tanh\n",
      "Error Rate: 0.02760\n",
      "\n",
      "Solver used: lbfgs\n",
      "Activation function used: relu\n",
      "Error Rate: 0.02440\n",
      "\n"
     ]
    }
   ],
   "source": [
    "from sklearn.neural_network import MLPClassifier\n",
    "\n",
    "solvers = ['adam','sgd','lbfgs']\n",
    "activations = ['identity','logistic','tanh','relu']\n",
    "\n",
    "for sol in solvers:\n",
    "    for act in activations:\n",
    "        mlp = MLPClassifier(solver=sol,activation=act)\n",
    "        gc.collect()\n",
    "        mlp.fit(X_train,y_train)\n",
    "        results = mlp.predict(X_test)\n",
    "        err = 1 - (sum([int(prediction == actual) for prediction, actual in zip(results,y_test)])) / 10000\n",
    "        print(f'Solver used: {sol}')\n",
    "        print(f'Activation function used: {act}')\n",
    "        print(f'Error Rate: {err:.5f}\\n')"
   ]
  },
  {
   "cell_type": "markdown",
   "metadata": {},
   "source": [
    "#### K-nearest Neighbors\n",
    "Parameters Tested:\n",
    "\n",
    "    All combinations of:\n",
    "\n",
    "    num_neighbors: 3, 5, 7, 11, and 21\n",
    "\n",
    "    weight_options: uniform and distance\n",
    "\n",
    "    \n",
    "\n",
    "Total tested: 10"
   ]
  },
  {
   "cell_type": "code",
   "execution_count": null,
   "metadata": {},
   "outputs": [
    {
     "name": "stdout",
     "output_type": "stream",
     "text": [
      "Number of neighbors used: 3\n",
      "Weight option used: uniform\n",
      "Error Rate: 0.02950\n",
      "\n",
      "Number of neighbors used: 5\n",
      "Weight option used: uniform\n",
      "Error Rate: 0.03120\n",
      "\n",
      "Number of neighbors used: 7\n",
      "Weight option used: uniform\n",
      "Error Rate: 0.03060\n",
      "\n",
      "Number of neighbors used: 11\n",
      "Weight option used: uniform\n",
      "Error Rate: 0.03320\n",
      "\n",
      "Number of neighbors used: 21\n",
      "Weight option used: uniform\n",
      "Error Rate: 0.03700\n",
      "\n",
      "Number of neighbors used: 3\n",
      "Weight option used: distance\n",
      "Error Rate: 0.02830\n",
      "\n",
      "Number of neighbors used: 5\n",
      "Weight option used: distance\n",
      "Error Rate: 0.03090\n",
      "\n",
      "Number of neighbors used: 7\n",
      "Weight option used: distance\n",
      "Error Rate: 0.03000\n",
      "\n",
      "Number of neighbors used: 11\n",
      "Weight option used: distance\n",
      "Error Rate: 0.03220\n",
      "\n",
      "Number of neighbors used: 21\n",
      "Weight option used: distance\n",
      "Error Rate: 0.03680\n",
      "\n"
     ]
    }
   ],
   "source": [
    "from random import uniform\n",
    "from sklearn.neighbors import KNeighborsClassifier\n",
    "import gc\n",
    "\n",
    "num_neighbors = [3,5,7,11,21]\n",
    "weight_options = ['uniform','distance']\n",
    "\n",
    "for wei in weight_options:\n",
    "    for nei in num_neighbors:\n",
    "        knn = KNeighborsClassifier(n_neighbors=nei,weights=wei)\n",
    "        gc.collect()\n",
    "        knn.fit(X_train,y_train)\n",
    "        results = knn.predict(X_test)\n",
    "        err = 1 - (sum([int(prediction == actual) for prediction, actual in zip(results,y_test)])) / 10000\n",
    "        print(f'Number of neighbors used: {nei}')\n",
    "        print(f'Weight option used: {wei}')\n",
    "        print(f'Error Rate: {err:.5f}\\n')\n"
   ]
  },
  {
   "cell_type": "markdown",
   "metadata": {},
   "source": [
    "### Best Error Rate for Each of the Three Classifiers:\n",
    "\n",
    "##### SVM Classifier: \n",
    "    Kernel used: rbf\n",
    "    Penalty  used: 2\n",
    "    Error Rate: 0.0169\n",
    "\n",
    "##### MLP Classifier:\n",
    "    Solver used: adam\n",
    "    Activation function used: tanh\n",
    "    Error Rate: 0.0218\n",
    "\n",
    "##### K-Nearest Neighbors Classifier:\n",
    "    Number of neighbors used: 3\n",
    "    Weight option used: distance\n",
    "    Error Rate: 0.0283"
   ]
  }
 ],
 "metadata": {
  "kernelspec": {
   "display_name": "Python 3.10.1 64-bit",
   "language": "python",
   "name": "python3"
  },
  "language_info": {
   "codemirror_mode": {
    "name": "ipython",
    "version": 3
   },
   "file_extension": ".py",
   "mimetype": "text/x-python",
   "name": "python",
   "nbconvert_exporter": "python",
   "pygments_lexer": "ipython3",
   "version": "3.10.1"
  },
  "orig_nbformat": 4,
  "vscode": {
   "interpreter": {
    "hash": "a4b0bfec95925c3a46d5807b0831a8318e4c1a81d945ac266ad4ff10468f64a9"
   }
  }
 },
 "nbformat": 4,
 "nbformat_minor": 2
}

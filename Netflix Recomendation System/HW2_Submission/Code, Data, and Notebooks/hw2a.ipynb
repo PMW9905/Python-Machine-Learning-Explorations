{
 "cells": [
  {
   "cell_type": "markdown",
   "metadata": {},
   "source": [
    "# CS 6375 HW 2\n",
    "Collaborative Filtering\n",
    "\n",
    "Parker Whitehead\n",
    "\n",
    "pmw180000@utdallas.edu"
   ]
  },
  {
   "cell_type": "markdown",
   "metadata": {},
   "source": [
    "***"
   ]
  },
  {
   "cell_type": "markdown",
   "metadata": {},
   "source": [
    "Import needed libraries"
   ]
  },
  {
   "cell_type": "code",
   "execution_count": 1,
   "metadata": {},
   "outputs": [
    {
     "data": {
      "text/plain": [
       "'1.22.3'"
      ]
     },
     "execution_count": 1,
     "metadata": {},
     "output_type": "execute_result"
    }
   ],
   "source": [
    "import fileutility as ft\n",
    "from collaborativefiltering import MemoryBasedCollaborativeFiltering as MBCF\n",
    "import numpy as np\n",
    "import math\n",
    "import os\n",
    "np.version.version"
   ]
  },
  {
   "cell_type": "markdown",
   "metadata": {},
   "source": [
    "Grab number of movies in movie_titles.txt\n",
    "Grab dict of users:index in TestingRatings.txt"
   ]
  },
  {
   "cell_type": "code",
   "execution_count": 2,
   "metadata": {},
   "outputs": [
    {
     "name": "stdout",
     "output_type": "stream",
     "text": [
      "Number of movies: 17770\n",
      "Number of users: 28978 \n",
      "Number of elements in dict: 28978\n"
     ]
    }
   ],
   "source": [
    "num_movies = ft.extract_num_movies('netflix\\movie_titles.txt')\n",
    "print(f'Number of movies: {num_movies}')\n",
    "\n",
    "user_count, user_dict = ft.extract_user_dict('netflix\\TrainingRatings.txt')\n",
    "print(f'Number of users: {user_count} \\nNumber of elements in dict: {len(user_dict)}')"
   ]
  },
  {
   "cell_type": "markdown",
   "metadata": {},
   "source": [
    "Construct Train matrix of users & ratings.\n"
   ]
  },
  {
   "cell_type": "code",
   "execution_count": 3,
   "metadata": {},
   "outputs": [
    {
     "name": "stdout",
     "output_type": "stream",
     "text": [
      "Num of rows: 28978\n",
      "Num of columns: 17771\n"
     ]
    }
   ],
   "source": [
    "from numpy import float32\n",
    "\n",
    "\n",
    "V = np.zeros((user_count,num_movies+1), dtype=float32) # Since movie index starting at 1, adding single element to pad.\n",
    "with open('netflix\\TrainingRatings.txt') as f:\n",
    "    for line in f:\n",
    "        line = line.split(',')\n",
    "        r = user_dict[int(line[1])]\n",
    "        c = int(line[0])\n",
    "        rating = float(line[2])\n",
    "        V[r,c] = rating \n",
    "print(f'Num of rows: {V.shape[0]}\\nNum of columns: {V.shape[1]}')"
   ]
  },
  {
   "cell_type": "markdown",
   "metadata": {},
   "source": [
    "Initialize and Train collaborative filtering object."
   ]
  },
  {
   "cell_type": "code",
   "execution_count": 4,
   "metadata": {},
   "outputs": [
    {
     "name": "stdout",
     "output_type": "stream",
     "text": [
      "sum\n",
      "count\n",
      "avg\n",
      "copy\n",
      "setzeros\n",
      "diags\n",
      "placement\n",
      "diff\n",
      "power\n",
      "diff empty\n",
      "diff square sum\n",
      "initial denom\n",
      "sqrt\n",
      "reciprocal\n",
      "created W\n"
     ]
    }
   ],
   "source": [
    "cf = MBCF()\n",
    "cf.fit(V)"
   ]
  },
  {
   "cell_type": "code",
   "execution_count": null,
   "metadata": {},
   "outputs": [],
   "source": []
  },
  {
   "cell_type": "markdown",
   "metadata": {},
   "source": [
    "Create the Test Dataset"
   ]
  },
  {
   "cell_type": "code",
   "execution_count": 5,
   "metadata": {},
   "outputs": [
    {
     "name": "stdout",
     "output_type": "stream",
     "text": [
      "Test_X shape: (100478, 2)\n",
      "Test_Y shape(100478,)\n",
      "First line: 8, 14771, 1.0\n"
     ]
    }
   ],
   "source": [
    "num_test_users = ft.get_num_lines('netflix\\TestingRatings.txt')\n",
    "\n",
    "Test_X = np.zeros((num_test_users,2),dtype=int)\n",
    "Test_Y = np.zeros(num_test_users)\n",
    "\n",
    "index = 0\n",
    "with open('netflix\\TestingRatings.txt') as f:\n",
    "    for line in f:\n",
    "        line = line.split(',')\n",
    "        Test_X[index,0] = int(line[0])\n",
    "        Test_X[index,1] = user_dict[int(line[1])]\n",
    "        Test_Y[index] = float(line[2])\n",
    "        index+=1\n",
    "print(f'Test_X shape: {Test_X.shape}\\nTest_Y shape{Test_Y.shape}')\n",
    "print(f'First line: {Test_X[0][0]}, {Test_X[0][1]}, {Test_Y[0]}')"
   ]
  },
  {
   "cell_type": "markdown",
   "metadata": {},
   "source": [
    "Test dataset on model"
   ]
  },
  {
   "cell_type": "code",
   "execution_count": 6,
   "metadata": {},
   "outputs": [
    {
     "name": "stdout",
     "output_type": "stream",
     "text": [
      "Mean Absolute Error: 0.7486\n",
      "Root Mean Standard Error: 0.9434\n"
     ]
    }
   ],
   "source": [
    "MAE, RMSE = cf.predict(Test_X, Test_Y)\n",
    "\n",
    "print(f'Mean Absolute Error: {MAE:.4f}')\n",
    "print(f'Root Mean Standard Error: {RMSE:.4f}')\n"
   ]
  }
 ],
 "metadata": {
  "kernelspec": {
   "display_name": "Python 3.10.1 64-bit",
   "language": "python",
   "name": "python3"
  },
  "language_info": {
   "codemirror_mode": {
    "name": "ipython",
    "version": 3
   },
   "file_extension": ".py",
   "mimetype": "text/x-python",
   "name": "python",
   "nbconvert_exporter": "python",
   "pygments_lexer": "ipython3",
   "version": "3.10.1"
  },
  "orig_nbformat": 4,
  "vscode": {
   "interpreter": {
    "hash": "a4b0bfec95925c3a46d5807b0831a8318e4c1a81d945ac266ad4ff10468f64a9"
   }
  }
 },
 "nbformat": 4,
 "nbformat_minor": 2
}
